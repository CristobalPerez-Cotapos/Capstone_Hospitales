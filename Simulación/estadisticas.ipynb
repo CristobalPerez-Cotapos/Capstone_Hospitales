{
 "cells": [
  {
   "cell_type": "code",
   "execution_count": 1,
   "metadata": {},
   "outputs": [],
   "source": [
    "from simulacion import Simulacion\n",
    "from estrategia import Estrategia\n",
    "import parametros_simulacion as ps\n",
    "import random\n",
    "from threading import Thread\n",
    "from funciones import Archivos as ar\n",
    "random.seed(ps.SEED)\n",
    "from copy import deepcopy\n",
    "import scipy.stats as st\n",
    "import numpy as np"
   ]
  },
  {
   "cell_type": "code",
   "execution_count": 15,
   "metadata": {},
   "outputs": [],
   "source": [
    "class Analisis:\n",
    "    def __init__(self, resultados_estrategias, cambio_politica):\n",
    "        self.resultados_estrategias = resultados_estrategias\n",
    "        self.cambio_politica = cambio_politica\n",
    "        self.intervalo_confianza_derivaciones = {}\n",
    "        self.intervalo_confianza_espera_WL = {}\n",
    "        self.intervalo_confianza_costos_muertos = {}\n",
    "        self.intervalo_confianza_costos_diarios = {}\n",
    "        self.intervalo_de_confianza()\n",
    "    \n",
    "    def intervalo_de_confianza(self):\n",
    "        costos_diarios = {}\n",
    "        costos_WL = {}\n",
    "        costos_derivaciones = {}\n",
    "        costos_muertos = {}\n",
    "        for key in self.resultados_estrategias[\"Funcion objetivo\"].keys():\n",
    "            costos_diarios[key] = list(self.resultados_estrategias[\"Funcion objetivo\"][key].values())\n",
    "        for key in self.resultados_estrategias[\"Costos muertos WL\"].keys():\n",
    "            costos_WL[key] = list(self.resultados_estrategias[\"Costos muertos WL\"][key].values())\n",
    "        for key in self.resultados_estrategias[\"Costos derivaciones\"].keys():\n",
    "            costos_derivaciones[key] = list(self.resultados_estrategias[\"Costos derivaciones\"][key].values())\n",
    "        for key in self.resultados_estrategias[\"Costos muertos hospitales\"].keys():\n",
    "            costos_muertos[key] = list(self.resultados_estrategias[\"Costos muertos hospitales\"][key].values())\n",
    "        \n",
    "\n",
    "        \n",
    "        for key in self.resultados_estrategias[\"Funcion objetivo\"].keys():\n",
    "            self.intervalo_confianza_espera_WL[key] = st.norm.interval(confidence = 0.95, loc = np.mean(costos_WL[key]), scale = st.sem(costos_WL[key]))\n",
    "            self.intervalo_confianza_costos_muertos[key] = st.norm.interval(confidence = 0.95, loc = np.mean(costos_muertos[key]), scale = st.sem(costos_muertos[key]))\n",
    "            self.intervalo_confianza_derivaciones[key] = st.norm.interval(confidence = 0.95, loc = np.mean(costos_derivaciones[key]), scale = st.sem(costos_derivaciones[key]))\n",
    "            self.intervalo_confianza_costos_diarios[key] = st.norm.interval(confidence = 0.95, loc = np.mean(costos_diarios[key]), scale = st.sem(costos_diarios[key]))\n",
    "\n",
    "\n",
    "    def chequear_intervalo(self):\n",
    "        valores_WL_inicial = list(self.estrategia_inicial.costos_espera_WL_simulacion.values())\n",
    "        valores_costos_muertos_inicial = list(self.estrategia_inicial.costos_muertos_hospitales_simulacion.values())\n",
    "        valores_derivaciones_inicial = list(self.estrategia_inicial.costos_derivacion_simulacion.values())\n",
    "\n",
    "        \n",
    "        for valor in valores_WL_inicial:\n",
    "            if self.intervalo_confianza_espera_WL[0] > valor or self.intervalo_confianza_espera_WL[1] < valor:\n",
    "                self.condicion_WL = False\n",
    "\n",
    "        for valor in valores_costos_muertos_inicial:\n",
    "            if self.intervalo_confianza_costos_muertos[0] > valor or self.intervalo_confianza_costos_muertos[1] < valor:\n",
    "                self.condicion_costos_muertos = False\n",
    "\n",
    "        for valor in valores_derivaciones_inicial:\n",
    "            if self.intervalo_confianza_derivaciones[0] > valor or self.intervalo_confianza_derivaciones[1] < valor:\n",
    "                self.condicion_derivaciones = False\n",
    "\n",
    "\n"
   ]
  },
  {
   "cell_type": "code",
   "execution_count": 16,
   "metadata": {},
   "outputs": [],
   "source": [
    "resultados_estra = ar('None').leer_resultados_estrategias()\n",
    "analisis = Analisis(resultados_estra, 4)"
   ]
  },
  {
   "cell_type": "code",
   "execution_count": 20,
   "metadata": {},
   "outputs": [
    {
     "data": {
      "text/plain": [
       "{'Estrategia 1': (787.4565072876396, 829.1055536672816),\n",
       " 'Estrategia 2': (-0.5194025724901523, 2.0502359020359675),\n",
       " 'Estrategia 3': (-0.027016951500327117, 0.0833043788109917),\n",
       " 'Estrategia 4': (-0.0016575105460767126, 0.14237607882273817),\n",
       " 'Estrategia 5': (-0.005069974196193226, 0.08950111516219009),\n",
       " 'Estrategia 6': (0.0006575545958250051, 0.1286029131945565)}"
      ]
     },
     "execution_count": 20,
     "metadata": {},
     "output_type": "execute_result"
    }
   ],
   "source": [
    "analisis.intervalo_confianza_costos_muertos"
   ]
  },
  {
   "cell_type": "code",
   "execution_count": null,
   "metadata": {},
   "outputs": [],
   "source": []
  },
  {
   "cell_type": "code",
   "execution_count": null,
   "metadata": {},
   "outputs": [],
   "source": []
  }
 ],
 "metadata": {
  "kernelspec": {
   "display_name": "Python 3",
   "language": "python",
   "name": "python3"
  },
  "language_info": {
   "codemirror_mode": {
    "name": "ipython",
    "version": 3
   },
   "file_extension": ".py",
   "mimetype": "text/x-python",
   "name": "python",
   "nbconvert_exporter": "python",
   "pygments_lexer": "ipython3",
   "version": "3.11.0"
  },
  "orig_nbformat": 4
 },
 "nbformat": 4,
 "nbformat_minor": 2
}
